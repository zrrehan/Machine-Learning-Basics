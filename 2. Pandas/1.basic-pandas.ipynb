{
 "cells": [
  {
   "cell_type": "markdown",
   "id": "f3b90779",
   "metadata": {},
   "source": [
    "# Summary of that ipynb file \n",
    "- Dataframe \n",
    "- Series\n",
    "- CSV File Reading \n",
    "- JSON File Reading\n",
    "- Label Scaling/ Label Encoding "
   ]
  },
  {
   "cell_type": "code",
   "execution_count": 1,
   "id": "f031b4c7",
   "metadata": {},
   "outputs": [],
   "source": [
    "import pandas as pd"
   ]
  },
  {
   "cell_type": "markdown",
   "id": "5454596b",
   "metadata": {},
   "source": [
    "## DataFrame\n",
    "\n",
    "A **DataFrame** is like a table — just like an Excel sheet.\n",
    "\n",
    "- It has **rows** and **columns**.\n",
    "- Each **row** is one data entry (like one person, product, etc).\n",
    "- Each **column** is a feature or category (like name, age, price).\n",
    "\n",
    "In pandas, we use DataFrames to store and work with data easily.  \n",
    "It's one of the most important tools in data analysis and machine learning.\n",
    "\n"
   ]
  },
  {
   "cell_type": "code",
   "execution_count": 2,
   "id": "2a1aedbd",
   "metadata": {},
   "outputs": [
    {
     "name": "stdout",
     "output_type": "stream",
     "text": [
      "  student id study hr grade\n",
      "0     202818        3  3.55\n",
      "1     201918        4  3.77\n",
      "2     192830        1  3.22\n"
     ]
    }
   ],
   "source": [
    "student = {\n",
    "    \"student id\": [\"202818\", \"201918\", \"192830\"],\n",
    "    \"study hr\": [\"3\", \"4\", \"1\"],\n",
    "    \"grade\": [\"3.55\", \"3.77\", \"3.22\"]\n",
    "}\n",
    "\n",
    "student_df = pd.DataFrame(student)\n",
    "print(student_df)"
   ]
  },
  {
   "cell_type": "markdown",
   "id": "969d7aa3",
   "metadata": {},
   "source": [
    "## 📌 What is a Series?\n",
    "\n",
    "A **Series** is like a single column from a table.\n",
    "\n",
    "- It's a **one-dimensional** data structure in pandas.\n",
    "- It has **values** and an **index** (like row numbers).\n",
    "- You can think of it like a list in Python, but with labels.\n",
    "\n",
    "#### Output:\n",
    "\n",
    "| label | value  |\n",
    "|-------|--------|\n",
    "| 0     | female |\n",
    "| 1     | female |\n",
    "| 2     | male   |\n",
    "dtype: object"
   ]
  },
  {
   "cell_type": "code",
   "execution_count": 3,
   "id": "6e5de7da",
   "metadata": {},
   "outputs": [
    {
     "name": "stdout",
     "output_type": "stream",
     "text": [
      "0    female\n",
      "1    female\n",
      "2      male\n",
      "dtype: object\n"
     ]
    }
   ],
   "source": [
    "gender = [\"female\", \"female\", \"male\"]\n",
    "gender_series = pd.Series(gender)\n",
    "print(gender_series)"
   ]
  },
  {
   "cell_type": "code",
   "execution_count": 4,
   "id": "f518e8e7",
   "metadata": {},
   "outputs": [
    {
     "name": "stdout",
     "output_type": "stream",
     "text": [
      "202818    female\n",
      "201918    female\n",
      "192830      male\n",
      "dtype: object\n"
     ]
    }
   ],
   "source": [
    "# changing the label \n",
    "gender_with_custom_label = pd.Series(gender, index = [\"202818\", \"201918\", \"192830\"])\n",
    "print(gender_with_custom_label)"
   ]
  },
  {
   "cell_type": "code",
   "execution_count": 5,
   "id": "fe60a72d",
   "metadata": {},
   "outputs": [
    {
     "name": "stdout",
     "output_type": "stream",
     "text": [
      "day1    420\n",
      "day2    380\n",
      "day3    390\n",
      "dtype: int64\n"
     ]
    }
   ],
   "source": [
    "# series with dictionary \n",
    "calories = {\"day1\": 420, \"day2\": 380, \"day3\": 390}\n",
    "myvar = pd.Series(calories)\n",
    "print(myvar)"
   ]
  },
  {
   "cell_type": "markdown",
   "id": "c53f885a",
   "metadata": {},
   "source": [
    "##### Adding Series to a DataFrame "
   ]
  },
  {
   "cell_type": "code",
   "execution_count": 6,
   "id": "ce91bcf8",
   "metadata": {},
   "outputs": [
    {
     "name": "stdout",
     "output_type": "stream",
     "text": [
      "  student id study hr grade\n",
      "0     202818        3  3.55\n",
      "1     201918        4  3.77\n",
      "2     192830        1  3.22\n",
      "---------------------\n",
      "0    female\n",
      "1    female\n",
      "2      male\n",
      "dtype: object\n",
      "---------------------\n",
      "  student id study hr grade  gender\n",
      "0     202818        3  3.55  female\n",
      "1     201918        4  3.77  female\n",
      "2     192830        1  3.22    male\n"
     ]
    }
   ],
   "source": [
    "# my dataframe \n",
    "print(student_df)\n",
    "print(\"---------------------\")\n",
    "\n",
    "#my series \n",
    "print(gender_series)\n",
    "print(\"---------------------\")\n",
    "\n",
    "# adding gender in the df \n",
    "student_df[\"gender\"] = gender_series\n",
    "print(student_df)"
   ]
  },
  {
   "cell_type": "markdown",
   "id": "60cf371a",
   "metadata": {},
   "source": [
    "### 📄 What is a CSV File?\n",
    "\n",
    "A **CSV (Comma-Separated Values)** file is a simple text file used to store **tabular data** (like rows and columns). Each line represents a row, and each value is separated by a comma.\n"
   ]
  },
  {
   "cell_type": "markdown",
   "id": "573ad96e",
   "metadata": {},
   "source": [
    "#### Reading a CSV file and transform it to a daraframe "
   ]
  },
  {
   "cell_type": "code",
   "execution_count": 7,
   "id": "1160df8f",
   "metadata": {},
   "outputs": [
    {
     "name": "stdout",
     "output_type": "stream",
     "text": [
      "      Name  Age  Gender  GPA\n",
      "0    Alice   22  Female  3.6\n",
      "1      Bob   25    Male  3.2\n",
      "2  Charlie   23    Male  3.4\n",
      "3    Diana   24  Female  3.8\n",
      "4    Ethan   26    Male  2.9\n",
      "5    Fiona   21  Female  3.7\n",
      "6   George   27    Male  3.1\n",
      "7   Hannah   22  Female  3.9\n",
      "8      Ian   24    Male  3.3\n",
      "9    Jenny   25  Female  3.5\n"
     ]
    }
   ],
   "source": [
    "df = pd.read_csv(\"student_data.csv\")\n",
    "print(df)"
   ]
  },
  {
   "cell_type": "markdown",
   "id": "e7b05b23",
   "metadata": {},
   "source": [
    "### Analysing Data"
   ]
  },
  {
   "cell_type": "code",
   "execution_count": 8,
   "id": "c03bd35f",
   "metadata": {},
   "outputs": [
    {
     "name": "stdout",
     "output_type": "stream",
     "text": [
      "    Name  Age  Gender  GPA\n",
      "0  Alice   22  Female  3.6\n",
      "1    Bob   25    Male  3.2\n",
      "--------------\n",
      "--------------\n",
      "\n",
      "    Name  Age  Gender  GPA\n",
      "8    Ian   24    Male  3.3\n",
      "9  Jenny   25  Female  3.5\n",
      "--------------\n",
      "--------------\n",
      "\n",
      "<class 'pandas.core.frame.DataFrame'>\n",
      "RangeIndex: 10 entries, 0 to 9\n",
      "Data columns (total 4 columns):\n",
      " #   Column  Non-Null Count  Dtype  \n",
      "---  ------  --------------  -----  \n",
      " 0   Name    10 non-null     object \n",
      " 1   Age     10 non-null     int64  \n",
      " 2   Gender  10 non-null     object \n",
      " 3   GPA     10 non-null     float64\n",
      "dtypes: float64(1), int64(1), object(2)\n",
      "memory usage: 452.0+ bytes\n",
      "None\n"
     ]
    }
   ],
   "source": [
    "# analyzing data of first n (Imagine n = 2)\n",
    "print(df.head(2)) # first n (here 2)\n",
    "print(\"--------------\")\n",
    "print(\"--------------\")\n",
    "print()\n",
    "\n",
    "print(df.tail(2)) # last n (here 2)\n",
    "print(\"--------------\")\n",
    "print(\"--------------\")\n",
    "print()\n",
    "\n",
    "print(df.info()) # gives me info"
   ]
  },
  {
   "cell_type": "markdown",
   "id": "ab442f17",
   "metadata": {},
   "source": [
    "### Reading JSON file "
   ]
  },
  {
   "cell_type": "code",
   "execution_count": 9,
   "id": "daf726d1",
   "metadata": {},
   "outputs": [
    {
     "name": "stdout",
     "output_type": "stream",
     "text": [
      "      name  age  gender  gpa\n",
      "0    Alice   22  Female  3.6\n",
      "1      Bob   24    Male  3.2\n",
      "2  Charlie   23    Male  3.4\n",
      "3    Diana   21  Female  3.9\n"
     ]
    }
   ],
   "source": [
    "df = pd.read_json(\"student_data.json\")\n",
    "print(df)"
   ]
  },
  {
   "cell_type": "markdown",
   "id": "d676b537",
   "metadata": {},
   "source": [
    "## Label Scaling (or Label Encoding)\n",
    "\n",
    "Label scaling, also known as label encoding, is the process of converting categorical values (such as Male, Female, Rich, Poor etc) into numerical values (like 0, 1, 2). Because computer can not understand string it works on Numerical Values and each Numerical Values will represent the class such as, here 0 will be represent `Female` and 1 will represent `Male`"
   ]
  },
  {
   "cell_type": "code",
   "execution_count": 10,
   "id": "bbd9e00d",
   "metadata": {},
   "outputs": [
    {
     "name": "stdout",
     "output_type": "stream",
     "text": [
      "      name  age  gender  gpa\n",
      "0    Alice   22       0  3.6\n",
      "1      Bob   24       1  3.2\n",
      "2  Charlie   23       1  3.4\n",
      "3    Diana   21       0  3.9\n"
     ]
    }
   ],
   "source": [
    "df['gender'] = df[\"gender\"].map({\"Female\": 0, \"Male\": 1})\n",
    "print(df)"
   ]
  }
 ],
 "metadata": {
  "kernelspec": {
   "display_name": "Python 3",
   "language": "python",
   "name": "python3"
  },
  "language_info": {
   "codemirror_mode": {
    "name": "ipython",
    "version": 3
   },
   "file_extension": ".py",
   "mimetype": "text/x-python",
   "name": "python",
   "nbconvert_exporter": "python",
   "pygments_lexer": "ipython3",
   "version": "3.13.1"
  }
 },
 "nbformat": 4,
 "nbformat_minor": 5
}
